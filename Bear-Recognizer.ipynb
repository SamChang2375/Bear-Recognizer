{
 "cells": [
  {
   "cell_type": "code",
   "execution_count": 24,
   "id": "b13025ca",
   "metadata": {},
   "outputs": [
    {
     "data": {
      "application/vnd.jupyter.widget-view+json": {
       "model_id": "8faa608662184c71925957343a056340",
       "version_major": 2,
       "version_minor": 0
      },
      "text/plain": [
       "VBox(children=(Label(value='Select your bear!'), FileUpload(value={}, description='Upload'), Button(descriptio…"
      ]
     },
     "metadata": {},
     "output_type": "display_data"
    },
    {
     "data": {
      "text/html": [],
      "text/plain": [
       "<IPython.core.display.HTML object>"
      ]
     },
     "metadata": {},
     "output_type": "display_data"
    }
   ],
   "source": [
    "from fastbook import *\n",
    "from fastai.vision.widgets import *\n",
    "\n",
    "learn_inf = load_learner('export.pkl')\n",
    "\n",
    "# create button to upload personal image\n",
    "upload_button = widgets.FileUpload()\n",
    "\n",
    "# create button that runs classification (model on pic) \n",
    "run_classification = widgets.Button(description = \"Classify\")\n",
    "\n",
    "# Create widget that shows image\n",
    "out_pl = widgets.Output()\n",
    "lbl_pred = widgets.Label()\n",
    "\n",
    "def on_click_classify(change):\n",
    "    # grab the image and display it \n",
    "    img = PILImage.create(upload_button.data[-1])\n",
    "    out_pl.clear_output()\n",
    "    with out_pl: display(img.to_thumb(128,128))\n",
    "        \n",
    "    # Apply our model to the picture\n",
    "    pred, pred_idx, probs = learn_inf.predict(img)\n",
    "    lbl_pred.value = f'Prediction: {pred}; Probability: {probs[pred_idx]:.04f}'\n",
    "\n",
    "# setting the event handler\n",
    "run_classification.on_click(on_click_classify)\n",
    "\n",
    "# Getting everything together\n",
    "VBox([widgets.Label('Select your bear!'), upload_button, run_classification, out_pl, lbl_pred])"
   ]
  },
  {
   "cell_type": "code",
   "execution_count": null,
   "id": "08b75c90",
   "metadata": {},
   "outputs": [],
   "source": []
  }
 ],
 "metadata": {
  "kernelspec": {
   "display_name": "Python 3 (ipykernel)",
   "language": "python",
   "name": "python3"
  },
  "language_info": {
   "codemirror_mode": {
    "name": "ipython",
    "version": 3
   },
   "file_extension": ".py",
   "mimetype": "text/x-python",
   "name": "python",
   "nbconvert_exporter": "python",
   "pygments_lexer": "ipython3",
   "version": "3.9.7"
  }
 },
 "nbformat": 4,
 "nbformat_minor": 5
}
